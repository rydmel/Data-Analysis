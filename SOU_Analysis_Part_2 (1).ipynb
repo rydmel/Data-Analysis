{
  "nbformat": 4,
  "nbformat_minor": 0,
  "metadata": {
    "colab": {
      "name": "SOU Analysis Part 2",
      "version": "0.3.2",
      "provenance": [],
      "collapsed_sections": [],
      "toc_visible": true
    },
    "kernelspec": {
      "name": "python3",
      "display_name": "Python 3"
    }
  },
  "cells": [
    {
      "cell_type": "markdown",
      "metadata": {
        "id": "1mwOs-GeB-hC",
        "colab_type": "text"
      },
      "source": [
        "# PREPROCESSING\n"
      ]
    },
    {
      "cell_type": "code",
      "metadata": {
        "id": "GVTBVNH9TyB5",
        "colab_type": "code",
        "outputId": "cde3f988-1619-4eb1-927d-cf6679881883",
        "colab": {
          "base_uri": "https://localhost:8080/",
          "height": 50
        }
      },
      "source": [
        "#Import libs\n",
        "import pickle\n",
        "import nltk\n",
        "nltk.download('punkt')\n",
        "\n",
        "import numpy as np\n",
        "import matplotlib.pyplot as plt\n",
        "import sklearn\n",
        "import pandas as pd"
      ],
      "execution_count": 1,
      "outputs": [
        {
          "output_type": "stream",
          "text": [
            "[nltk_data] Downloading package punkt to /root/nltk_data...\n",
            "[nltk_data]   Package punkt is already up-to-date!\n"
          ],
          "name": "stdout"
        }
      ]
    },
    {
      "cell_type": "code",
      "metadata": {
        "id": "0LugO_35VJWc",
        "colab_type": "code",
        "outputId": "fdcf51a6-ac73-43a8-97d5-3b3a4cc9bebb",
        "colab": {
          "base_uri": "https://localhost:8080/",
          "height": 50
        }
      },
      "source": [
        "!pip install pyspark"
      ],
      "execution_count": 2,
      "outputs": [
        {
          "output_type": "stream",
          "text": [
            "Requirement already satisfied: pyspark in /usr/local/lib/python3.6/dist-packages (2.4.3)\n",
            "Requirement already satisfied: py4j==0.10.7 in /usr/local/lib/python3.6/dist-packages (from pyspark) (0.10.7)\n"
          ],
          "name": "stdout"
        }
      ]
    },
    {
      "cell_type": "code",
      "metadata": {
        "id": "Kc7mg4PoUxmv",
        "colab_type": "code",
        "colab": {}
      },
      "source": [
        "with open('speeches.pkl', 'rb') as file:\n",
        "    data = pickle.load(file)"
      ],
      "execution_count": 0,
      "outputs": []
    },
    {
      "cell_type": "code",
      "metadata": {
        "id": "c-xVH9YGWl2x",
        "colab_type": "code",
        "colab": {}
      },
      "source": [
        "#data"
      ],
      "execution_count": 0,
      "outputs": []
    },
    {
      "cell_type": "markdown",
      "metadata": {
        "id": "w-tV71B3EFUR",
        "colab_type": "text"
      },
      "source": [
        "# 6A and 6B\n"
      ]
    },
    {
      "cell_type": "markdown",
      "metadata": {
        "id": "8p5WD-WcEO-C",
        "colab_type": "text"
      },
      "source": [
        "Using NLTK's Punkt sentence tokenizer, we are using their \"pretrained unsupervised algorithm to build a model for abbreviation words, collocations, and words that start sentences.\" This satisfies the nature of the part (a) "
      ]
    },
    {
      "cell_type": "code",
      "metadata": {
        "id": "CM5Z77iIZZGn",
        "colab_type": "code",
        "colab": {}
      },
      "source": [
        "'''Helper functions along with the transform() function which returns a list of \n",
        "tuples sorted by year. Each tuple contains the SOU year, Sentence Count, and \n",
        "Mean Sentence Length'''\n",
        "\n",
        "'''sentencing_data() returns a list of sentences for a given body of text. \n",
        "Iterating through each row in the original data file, we produce a list of \n",
        "sentences for each SOU'''\n",
        "\n",
        "def sentencing_data(str):\n",
        "  d = str.replace('\\r\\n\\r\\n', ' ') #cleans str\n",
        "  sent_list = nltk.tokenize.sent_tokenize(d)\n",
        "  return sent_list\n",
        "\n",
        "def SentLen(str):\n",
        "    spl = str.split(' ')  #finding the number of words using split()\n",
        "    return len(spl)\n",
        "  \n",
        "def avgSentLen(list):\n",
        "    sum = 0\n",
        "    for i in range(0, len(list)):\n",
        "      sum += SentLen(list[i])\n",
        "    return sum/len(list)\n",
        "\n",
        "def totalWords(list):\n",
        "  sum = 0\n",
        "  for i in range(0, len(list)):\n",
        "    sum += SentLen(list[i])\n",
        "  return sum\n",
        "\n",
        "def transform(data):\n",
        "    tup_List = []\n",
        "    for i in range(0, len(data)):\n",
        "        sentData = sentencing_data(data[i][1])\n",
        "        year = int(data[i][2])\n",
        "        numSent = len(sentData)\n",
        "        pres = data[i][0] #find name of President\n",
        "        tup_List.append((year, pres, numSent, round(avgSentLen(sentData),2), totalWords(sentData)))\n",
        "\n",
        "    return sorted(tup_List, key=lambda tup: tup[0])"
      ],
      "execution_count": 0,
      "outputs": []
    },
    {
      "cell_type": "code",
      "metadata": {
        "id": "TfWwGI-IZb6Q",
        "colab_type": "code",
        "colab": {
          "base_uri": "https://localhost:8080/",
          "height": 54
        },
        "outputId": "ca399108-974d-44aa-d3be-886c624d03b5"
      },
      "source": [
        "a = transform(data)\n",
        "print(a)\n"
      ],
      "execution_count": 6,
      "outputs": [
        {
          "output_type": "stream",
          "text": [
            "[(1790, 'George Washington', 40, 35.25, 1410), (1791, 'George Washington', 60, 38.58, 2315), (1792, 'George Washington', 61, 34.52, 2106), (1793, 'George Washington', 55, 35.91, 1975), (1794, 'George Washington', 80, 36.55, 2924), (1795, 'George Washington', 53, 37.64, 1995), (1796, 'George Washington', 78, 36.88, 2877), (1797, 'John Adams', 59, 35.19, 2076), (1798, 'John Adams', 55, 40.49, 2227), (1799, 'John Adams', 36, 42.06, 1514), (1800, 'John Adams', 40, 34.38, 1375), (1801, 'Thomas Jefferson', 92, 35.1, 3229), (1802, 'Thomas Jefferson', 62, 35.66, 2211), (1803, 'Thomas Jefferson', 48, 47.77, 2293), (1804, 'Thomas Jefferson', 50, 42.02, 2101), (1805, 'Thomas Jefferson', 78, 37.59, 2932), (1806, 'Thomas Jefferson', 73, 39.26, 2866), (1807, 'Thomas Jefferson', 62, 38.55, 2390), (1808, 'Thomas Jefferson', 72, 37.22, 2680), (1809, 'James Madison', 41, 44.71, 1833), (1810, 'James Madison', 62, 39.48, 2448), (1811, 'James Madison', 47, 48.4, 2275), (1812, 'James Madison', 88, 36.85, 3243), (1813, 'James Madison', 68, 47.93, 3259), (1814, 'James Madison', 51, 41.43, 2113), (1815, 'James Madison', 60, 52.47, 3148), (1816, 'James Madison', 73, 46.12, 3367), (1817, 'James Monroe', 123, 35.93, 4420), (1818, 'James Monroe', 115, 38.07, 4378), (1819, 'James Monroe', 132, 35.64, 4704), (1820, 'James Monroe', 85, 40.56, 3448), (1821, 'James Monroe', 150, 38.77, 5816), (1822, 'James Monroe', 118, 40.58, 4788), (1823, 'James Monroe', 184, 34.66, 6377), (1824, 'James Monroe', 248, 33.96, 8422), (1825, 'John Quincy Adams', 212, 42.41, 8991), (1826, 'John Quincy Adams', 175, 44.06, 7711), (1827, 'John Quincy Adams', 165, 41.99, 6929), (1828, 'John Quincy Adams', 195, 37.37, 7288), (1829, 'Andrew Jackson', 300, 35.11, 10532), (1830, 'Andrew Jackson', 392, 38.57, 15121), (1831, 'Andrew Jackson', 166, 43.3, 7187), (1832, 'Andrew Jackson', 200, 39.36, 7872), (1833, 'Andrew Jackson', 182, 43.35, 7890), (1834, 'Andrew Jackson', 319, 42.15, 13445), (1835, 'Andrew Jackson', 240, 45.15, 10836), (1836, 'Andrew Jackson', 295, 41.96, 12379), (1837, 'Martin Van Buren', 283, 40.43, 11441), (1838, 'Martin Van Buren', 266, 43.17, 11484), (1839, 'Martin Van Buren', 343, 39.13, 13422), (1840, 'Martin Van Buren', 183, 49.1, 8986), (1841, 'John Tyler', 198, 41.64, 8245), (1842, 'John Tyler', 206, 40.81, 8406), (1843, 'John Tyler', 193, 41.62, 8033), (1844, 'John Tyler', 267, 34.9, 9318), (1845, 'James K. Polk', 445, 36.22, 16118), (1846, 'James K. Polk', 474, 38.45, 18226), (1847, 'James K. Polk', 438, 37.47, 16414), (1848, 'James K. Polk', 596, 35.73, 21297), (1849, 'Zachary Taylor', 208, 36.64, 7622), (1850, 'Millard Fillmore', 233, 35.73, 8325), (1851, 'Millard Fillmore', 351, 37.75, 13249), (1852, 'Millard Fillmore', 285, 34.84, 9928), (1853, 'Franklin Pierce', 232, 41.34, 9591), (1854, 'Franklin Pierce', 268, 37.83, 10139), (1855, 'Franklin Pierce', 275, 42.24, 11615), (1856, 'Franklin Pierce', 258, 40.61, 10478), (1857, 'James Buchanan', 407, 33.55, 13655), (1858, 'James Buchanan', 514, 31.81, 16351), (1859, 'James Buchanan', 396, 31.16, 12338), (1860, 'James Buchanan', 485, 28.94, 14035), (1861, 'Abraham Lincoln', 214, 32.63, 6982), (1862, 'Abraham Lincoln', 319, 27.59, 8801), (1863, 'Abraham Lincoln', 202, 30.29, 6119), (1864, 'Abraham Lincoln', 208, 31.38, 6526), (1865, 'Andrew Johnson', 278, 33.19, 9228), (1866, 'Andrew Johnson', 206, 34.62, 7132), (1867, 'Andrew Johnson', 388, 30.9, 11990), (1868, 'Andrew Johnson', 298, 32.97, 9825), (1869, 'Ulysses S. Grant', 244, 31.53, 7693), (1870, 'Ulysses S. Grant', 265, 32.98, 8740), (1871, 'Ulysses S. Grant', 209, 30.91, 6461), (1872, 'Ulysses S. Grant', 288, 37.7, 10857), (1873, 'Ulysses S. Grant', 289, 34.71, 10030), (1874, 'Ulysses S. Grant', 288, 34.7, 9995), (1875, 'Ulysses S. Grant', 347, 35.18, 12207), (1876, 'Ulysses S. Grant', 191, 35.59, 6797), (1877, 'Rutherford B. Hayes', 290, 37.5, 10875), (1878, 'Rutherford B. Hayes', 235, 33.56, 7886), (1879, 'Rutherford B. Hayes', 313, 37.2, 11643), (1880, 'Rutherford B. Hayes', 410, 33.55, 13757), (1881, 'Chester A. Arthur', 425, 32.87, 13968), (1882, 'Chester A. Arthur', 306, 37.22, 11390), (1883, 'Chester A. Arthur', 262, 35.52, 9307), (1884, 'Chester A. Arthur', 280, 33.33, 9331), (1885, 'Grover Cleveland', 558, 35.41, 19758), (1886, 'Grover Cleveland', 417, 36.31, 15140), (1887, 'Grover Cleveland', 124, 42.69, 5294), (1888, 'Grover Cleveland', 364, 36.77, 13386), (1889, 'Benjamin Harrison', 433, 30.12, 13043), (1890, 'Benjamin Harrison', 368, 31.32, 11525), (1891, 'Benjamin Harrison', 464, 35.12, 16298), (1892, 'Benjamin Harrison', 422, 32.42, 13681), (1893, 'Grover Cleveland', 377, 32.59, 12286), (1894, 'Grover Cleveland', 467, 34.04, 15899), (1895, 'Grover Cleveland', 360, 40.76, 14675), (1896, 'Grover Cleveland', 424, 36.92, 15654), (1897, 'William McKinley', 370, 32.75, 12117), (1898, 'William McKinley', 594, 34.04, 20220), (1899, 'William McKinley', 703, 32.62, 22929), (1900, 'William McKinley', 577, 33.2, 19158), (1901, 'Theodore Roosevelt', 682, 28.73, 19592), (1902, 'Theodore Roosevelt', 333, 29.32, 9763), (1903, 'Theodore Roosevelt', 502, 29.65, 14883), (1904, 'Theodore Roosevelt', 533, 32.67, 17413), (1905, 'Theodore Roosevelt', 795, 31.5, 25041), (1906, 'Theodore Roosevelt', 666, 35.41, 23580), (1907, 'Theodore Roosevelt', 856, 31.99, 27386), (1908, 'Theodore Roosevelt', 632, 30.71, 19407), (1909, 'William Howard Taft', 387, 35.93, 13904), (1910, 'William Howard Taft', 831, 34.39, 28582), (1911, 'William Howard Taft', 710, 33.55, 23821), (1912, 'William Howard Taft', 738, 34.33, 25337), (1913, 'Woodrow Wilson', 108, 32.9, 3553), (1914, 'Woodrow Wilson', 172, 26.38, 4537), (1915, 'Woodrow Wilson', 223, 34.47, 7687), (1916, 'Woodrow Wilson', 53, 40.0, 2120), (1917, 'Woodrow Wilson', 138, 28.35, 3912), (1918, 'Woodrow Wilson', 162, 33.73, 5464), (1919, 'Woodrow Wilson', 162, 29.35, 4755), (1920, 'Woodrow Wilson', 73, 37.07, 2706), (1921, 'Warren G. Harding', 210, 26.7, 5608), (1922, 'Warren G. Harding', 227, 25.32, 5747), (1923, 'Calvin Coolidge', 367, 18.41, 6758), (1924, 'Calvin Coolidge', 278, 25.25, 7019), (1925, 'Calvin Coolidge', 483, 22.58, 10904), (1926, 'Calvin Coolidge', 441, 23.5, 10362), (1927, 'Calvin Coolidge', 448, 19.73, 8840), (1928, 'Calvin Coolidge', 372, 21.89, 8144), (1929, 'Herbert Hoover', 407, 27.02, 10998), (1930, 'Herbert Hoover', 163, 27.9, 4548), (1931, 'Herbert Hoover', 251, 22.66, 5688), (1932, 'Herbert Hoover', 161, 26.32, 4237), (1934, 'Franklin D. Roosevelt', 77, 28.87, 2223), (1935, 'Franklin D. Roosevelt', 139, 25.3, 3517), (1936, 'Franklin D. Roosevelt', 171, 22.3, 3814), (1937, 'Franklin D. Roosevelt', 105, 26.0, 2730), (1938, 'Franklin D. Roosevelt', 173, 27.03, 4677), (1939, 'Franklin D. Roosevelt', 172, 21.73, 3738), (1940, 'Franklin D. Roosevelt', 121, 26.21, 3172), (1941, 'Franklin D. Roosevelt', 148, 22.26, 3295), (1942, 'Franklin D. Roosevelt', 176, 19.79, 3483), (1943, 'Franklin D. Roosevelt', 200, 22.8, 4561), (1944, 'Franklin D. Roosevelt', 171, 22.08, 3775), (1945, 'Franklin D. Roosevelt', 336, 24.28, 8158), (1946, 'Harry S Truman', 1265, 22.1, 27959), (1947, 'Harry S Truman', 292, 20.77, 6064), (1948, 'Harry S Truman', 274, 18.6, 5097), (1949, 'Harry S Truman', 184, 18.52, 3408), (1950, 'Harry S Truman', 233, 22.05, 5137), (1951, 'Harry S Truman', 242, 16.53, 4000), (1952, 'Harry S Truman', 293, 18.24, 5345), (1953, 'Harry S Truman', 430, 22.35, 9609), (1953, 'Dwight D. Eisenhower', 349, 19.96, 6967), (1954, 'Dwight D. Eisenhower', 285, 21.1, 6013), (1955, 'Dwight D. Eisenhower', 336, 21.59, 7254), (1956, 'Dwight D. Eisenhower', 379, 21.84, 8279), (1957, 'Dwight D. Eisenhower', 189, 21.96, 4150), (1958, 'Dwight D. Eisenhower', 254, 19.46, 4943), (1959, 'Dwight D. Eisenhower', 264, 18.78, 4959), (1960, 'Dwight D. Eisenhower', 255, 22.15, 5647), (1961, 'Dwight D. Eisenhower', 264, 23.53, 6213), (1961, 'John F. Kennedy', 208, 24.95, 5190), (1962, 'John F. Kennedy', 272, 23.81, 6475), (1963, 'John F. Kennedy', 225, 23.76, 5347), (1964, 'Lyndon B. Johnson', 138, 23.19, 3200), (1965, 'Lyndon B. Johnson', 258, 17.21, 4440), (1966, 'Lyndon B. Johnson', 265, 20.78, 5506), (1967, 'Lyndon B. Johnson', 355, 20.09, 7133), (1968, 'Lyndon B. Johnson', 253, 19.25, 4869), (1969, 'Lyndon B. Johnson', 200, 20.55, 4111), (1970, 'Richard M. Nixon', 198, 22.55, 4465), (1971, 'Richard M. Nixon', 192, 23.36, 4485), (1972, 'Richard M. Nixon', 172, 23.08, 3969), (1973, 'Richard M. Nixon', 59, 28.17, 1662), (1974, 'Richard M. Nixon', 203, 25.49, 5174), (1975, 'Gerald R. Ford', 224, 18.38, 4117), (1976, 'Gerald R. Ford', 274, 18.08, 4954), (1977, 'Gerald R. Ford', 215, 21.9, 4709), (1978, 'Jimmy Carter', 251, 18.19, 4565), (1979, 'Jimmy Carter', 162, 20.11, 3258), (1980, 'Jimmy Carter', 167, 20.69, 3456), (1981, 'Ronald Reagan', 220, 20.16, 4436), (1981, 'Jimmy Carter', 1349, 25.54, 34447), (1982, 'Ronald Reagan', 253, 20.41, 5164), (1983, 'Ronald Reagan', 261, 21.21, 5537), (1984, 'Ronald Reagan', 293, 16.88, 4946), (1985, 'Ronald Reagan', 223, 18.92, 4220), (1986, 'Ronald Reagan', 175, 19.86, 3475), (1987, 'Ronald Reagan', 200, 19.0, 3801), (1988, 'Ronald Reagan', 224, 21.55, 4827), (1989, 'George Bush', 290, 16.63, 4822), (1990, 'George Bush', 198, 19.26, 3813), (1991, 'George Bush', 225, 17.64, 3970), (1992, 'George Bush', 320, 15.89, 5086), (1993, 'William J. Clinton', 292, 24.0, 7008), (1994, 'William J. Clinton', 394, 18.79, 7403), (1995, 'William J. Clinton', 462, 19.92, 9204), (1996, 'William J. Clinton', 356, 17.81, 6340), (1997, 'William J. Clinton', 343, 19.73, 6768), (1998, 'William J. Clinton', 367, 19.92, 7312), (1999, 'William J. Clinton', 392, 19.19, 7522), (2000, 'William J. Clinton', 495, 18.43, 9122), (2001, 'George W. Bush', 277, 15.81, 4379), (2002, 'George W. Bush', 214, 17.93, 3836), (2003, 'George W. Bush', 298, 18.04, 5375), (2004, 'George W. Bush', 275, 18.81, 5172), (2005, 'George W. Bush', 239, 21.15, 5054), (2006, 'George W. Bush', 276, 19.23, 5307), (2007, 'George W. Bush', 286, 19.44, 5561), (2008, 'George W. Bush', 311, 18.34, 5705), (2009, 'Barack Obama', 287, 21.12, 6062), (2010, 'Barack Obama', 426, 17.09, 7279), (2011, 'Barack Obama', 396, 17.44, 6906), (2012, 'Barack Obama', 415, 16.96, 7037), (2013, 'Barack Obama', 417, 16.69, 6961)]\n"
          ],
          "name": "stdout"
        }
      ]
    },
    {
      "cell_type": "code",
      "metadata": {
        "id": "8MTE2IH2aIIW",
        "colab_type": "code",
        "colab": {
          "base_uri": "https://localhost:8080/",
          "height": 1092
        },
        "outputId": "eb520410-fd56-4c13-90ea-c7fe21ce156f"
      },
      "source": [
        "#Decided to go the Pandas df route\n",
        "df = pd.DataFrame(a, columns=['Year', 'President', 'Sentences Count', 'Avg Length', 'Total Words'])\n",
        "print(df)"
      ],
      "execution_count": 7,
      "outputs": [
        {
          "output_type": "stream",
          "text": [
            "     Year           President  Sentences Count  Avg Length  Total Words\n",
            "0    1790   George Washington               40       35.25         1410\n",
            "1    1791   George Washington               60       38.58         2315\n",
            "2    1792   George Washington               61       34.52         2106\n",
            "3    1793   George Washington               55       35.91         1975\n",
            "4    1794   George Washington               80       36.55         2924\n",
            "5    1795   George Washington               53       37.64         1995\n",
            "6    1796   George Washington               78       36.88         2877\n",
            "7    1797          John Adams               59       35.19         2076\n",
            "8    1798          John Adams               55       40.49         2227\n",
            "9    1799          John Adams               36       42.06         1514\n",
            "10   1800          John Adams               40       34.38         1375\n",
            "11   1801    Thomas Jefferson               92       35.10         3229\n",
            "12   1802    Thomas Jefferson               62       35.66         2211\n",
            "13   1803    Thomas Jefferson               48       47.77         2293\n",
            "14   1804    Thomas Jefferson               50       42.02         2101\n",
            "15   1805    Thomas Jefferson               78       37.59         2932\n",
            "16   1806    Thomas Jefferson               73       39.26         2866\n",
            "17   1807    Thomas Jefferson               62       38.55         2390\n",
            "18   1808    Thomas Jefferson               72       37.22         2680\n",
            "19   1809       James Madison               41       44.71         1833\n",
            "20   1810       James Madison               62       39.48         2448\n",
            "21   1811       James Madison               47       48.40         2275\n",
            "22   1812       James Madison               88       36.85         3243\n",
            "23   1813       James Madison               68       47.93         3259\n",
            "24   1814       James Madison               51       41.43         2113\n",
            "25   1815       James Madison               60       52.47         3148\n",
            "26   1816       James Madison               73       46.12         3367\n",
            "27   1817        James Monroe              123       35.93         4420\n",
            "28   1818        James Monroe              115       38.07         4378\n",
            "29   1819        James Monroe              132       35.64         4704\n",
            "..    ...                 ...              ...         ...          ...\n",
            "196  1984       Ronald Reagan              293       16.88         4946\n",
            "197  1985       Ronald Reagan              223       18.92         4220\n",
            "198  1986       Ronald Reagan              175       19.86         3475\n",
            "199  1987       Ronald Reagan              200       19.00         3801\n",
            "200  1988       Ronald Reagan              224       21.55         4827\n",
            "201  1989         George Bush              290       16.63         4822\n",
            "202  1990         George Bush              198       19.26         3813\n",
            "203  1991         George Bush              225       17.64         3970\n",
            "204  1992         George Bush              320       15.89         5086\n",
            "205  1993  William J. Clinton              292       24.00         7008\n",
            "206  1994  William J. Clinton              394       18.79         7403\n",
            "207  1995  William J. Clinton              462       19.92         9204\n",
            "208  1996  William J. Clinton              356       17.81         6340\n",
            "209  1997  William J. Clinton              343       19.73         6768\n",
            "210  1998  William J. Clinton              367       19.92         7312\n",
            "211  1999  William J. Clinton              392       19.19         7522\n",
            "212  2000  William J. Clinton              495       18.43         9122\n",
            "213  2001      George W. Bush              277       15.81         4379\n",
            "214  2002      George W. Bush              214       17.93         3836\n",
            "215  2003      George W. Bush              298       18.04         5375\n",
            "216  2004      George W. Bush              275       18.81         5172\n",
            "217  2005      George W. Bush              239       21.15         5054\n",
            "218  2006      George W. Bush              276       19.23         5307\n",
            "219  2007      George W. Bush              286       19.44         5561\n",
            "220  2008      George W. Bush              311       18.34         5705\n",
            "221  2009        Barack Obama              287       21.12         6062\n",
            "222  2010        Barack Obama              426       17.09         7279\n",
            "223  2011        Barack Obama              396       17.44         6906\n",
            "224  2012        Barack Obama              415       16.96         7037\n",
            "225  2013        Barack Obama              417       16.69         6961\n",
            "\n",
            "[226 rows x 5 columns]\n"
          ],
          "name": "stdout"
        }
      ]
    },
    {
      "cell_type": "code",
      "metadata": {
        "id": "9ex90nkeA1bn",
        "colab_type": "code",
        "colab": {
          "base_uri": "https://localhost:8080/",
          "height": 649
        },
        "outputId": "3660d2fa-95f1-420b-b6f3-e561cc3ca106"
      },
      "source": [
        "x = np.array(df['Year'])\n",
        "Sent_Count= np.array(df['Sentences Count'])\n",
        "avg_length= np.array(df['Avg Length'])\n",
        "\n",
        "\n",
        "def rplot(X,Y,col):\n",
        "    M = np.vstack([X,np.ones(len(X))]).T\n",
        "    m, b = np.linalg.lstsq(M,Y)[0]\n",
        "    \n",
        "    plt.figure()\n",
        "    plt.plot(X, Y,'+', c = '0.5')\n",
        "    F = m*X+b\n",
        "    plt.plot(X, F,'b', label = col)\n",
        "    plt.title(col)\n",
        "    \n",
        "    plt.show()\n",
        "    print('Slope: ',round(m,4) , '  Intercept: ', round(b,4)) # print slope and intercept below plot\n",
        "    \n",
        "rplot(x,Sent_Count,\"Sentences Count\")\n",
        "rplot(x,avg_length,\"Avg Length\")\n",
        "    "
      ],
      "execution_count": 8,
      "outputs": [
        {
          "output_type": "stream",
          "text": [
            "/usr/local/lib/python3.6/dist-packages/ipykernel_launcher.py:8: FutureWarning: `rcond` parameter will change to the default of machine precision times ``max(M, N)`` where M and N are the input matrix dimensions.\n",
            "To use the future default and silence this warning we advise to pass `rcond=None`, to keep using the old, explicitly pass `rcond=-1`.\n",
            "  \n"
          ],
          "name": "stderr"
        },
        {
          "output_type": "display_data",
          "data": {
            "image/png": "[encoded data removed]",
            "text/plain": [
              "<Figure size 432x288 with 1 Axes>"
            ]
          },
          "metadata": {
            "tags": []
          }
        },
        {
          "output_type": "stream",
          "text": [
            "Slope:  0.7855   Intercept:  -1214.1051\n"
          ],
          "name": "stdout"
        },
        {
          "output_type": "display_data",
          "data": {
            "image/png": "[encoded data removed]",
            "text/plain": [
              "<Figure size 432x288 with 1 Axes>"
            ]
          },
          "metadata": {
            "tags": []
          }
        },
        {
          "output_type": "stream",
          "text": [
            "Slope:  -0.1192   Intercept:  256.9474\n"
          ],
          "name": "stdout"
        }
      ]
    },
    {
      "cell_type": "markdown",
      "metadata": {
        "id": "GYy5xJB8u19P",
        "colab_type": "text"
      },
      "source": [
        "From the plots, we observe that the number of sentences in SOU addresses have increased over time (m = .7855). In addition, the average sentence length has decreased over time (m = -.1192). An intuitive explanation for this trend is that Presidents (and their speech-writers) have incorporated brevity into the speeches as the years have gone by. Instead of possibly having many run-on sentences that have more than 30 words, we see many presidents after 1950 havng a mean sentence length under 25 words. "
      ]
    },
    {
      "cell_type": "markdown",
      "metadata": {
        "id": "wlxMAJ3znc8y",
        "colab_type": "text"
      },
      "source": [
        "# **6C**"
      ]
    },
    {
      "cell_type": "code",
      "metadata": {
        "id": "oIBVcrCRnf5B",
        "colab_type": "code",
        "colab": {}
      },
      "source": [
        "df1 = df[:123]\n",
        "df2 = df[123:]\n"
      ],
      "execution_count": 0,
      "outputs": []
    },
    {
      "cell_type": "code",
      "metadata": {
        "id": "hDwL9lb_76Fh",
        "colab_type": "code",
        "colab": {}
      },
      "source": [
        "yr_pre1912 = np.array(df1['Year'])\n",
        "tw_pre1912 = np.array(df1['Total Words'])\n",
        "\n",
        "yr_post1912 = np.array(df2['Year'])\n",
        "tw_post1912 = np.array(df2['Total Words'])"
      ],
      "execution_count": 0,
      "outputs": []
    },
    {
      "cell_type": "code",
      "metadata": {
        "id": "Ez__HU_Y8IU-",
        "colab_type": "code",
        "colab": {
          "base_uri": "https://localhost:8080/",
          "height": 649
        },
        "outputId": "359cc872-f3c1-46d0-d99f-f86f5a0107a0"
      },
      "source": [
        "rplot(yr_pre1912, tw_pre1912,\"Pre-1912\")\n",
        "rplot(yr_post1912, tw_post1912,\"Post-1912\")\n",
        "    "
      ],
      "execution_count": 11,
      "outputs": [
        {
          "output_type": "stream",
          "text": [
            "/usr/local/lib/python3.6/dist-packages/ipykernel_launcher.py:8: FutureWarning: `rcond` parameter will change to the default of machine precision times ``max(M, N)`` where M and N are the input matrix dimensions.\n",
            "To use the future default and silence this warning we advise to pass `rcond=None`, to keep using the old, explicitly pass `rcond=-1`.\n",
            "  \n"
          ],
          "name": "stderr"
        },
        {
          "output_type": "display_data",
          "data": {
            "image/png": "[encoded data removed]",
            "text/plain": [
              "<Figure size 432x288 with 1 Axes>"
            ]
          },
          "metadata": {
            "tags": []
          }
        },
        {
          "output_type": "stream",
          "text": [
            "Slope:  141.0685   Intercept:  -251119.8181\n"
          ],
          "name": "stdout"
        },
        {
          "output_type": "display_data",
          "data": {
            "image/png": "[encoded data removed]",
            "text/plain": [
              "<Figure size 432x288 with 1 Axes>"
            ]
          },
          "metadata": {
            "tags": []
          }
        },
        {
          "output_type": "stream",
          "text": [
            "Slope:  4.8585   Intercept:  -3648.557\n"
          ],
          "name": "stdout"
        }
      ]
    },
    {
      "cell_type": "markdown",
      "metadata": {
        "id": "rPh9vWOt_7rG",
        "colab_type": "text"
      },
      "source": [
        "Prior to 1912, we see an increase in total words (i.e. an increase of 141 words per unit increase in year via our regression).\n",
        "\n",
        "After 1912, we see no significant change in increase of total words.\n",
        "\n",
        "In 1913, Woodrow Wilson brought back in-person delivery. Due to time constraints and speech-writers' preferences, this may explain the lack of substantial increase in words.\n",
        "\n",
        "(Source: https://history.house.gov/Institution/SOTU/List/)"
      ]
    },
    {
      "cell_type": "markdown",
      "metadata": {
        "id": "RMysBkF-EP9L",
        "colab_type": "text"
      },
      "source": [
        "# 6D"
      ]
    },
    {
      "cell_type": "markdown",
      "metadata": {
        "id": "m7EplFpcTdJ0",
        "colab_type": "text"
      },
      "source": [
        "To find which President has the longest sentences on average, we must consider every SOU that the President delivered. Thus, we will use a dictionary to store the *total average sentence length* , i.e. the aggregate total words divided by the aggregate number of sentences"
      ]
    },
    {
      "cell_type": "code",
      "metadata": {
        "id": "kczm6dE1B_hx",
        "colab_type": "code",
        "colab": {
          "base_uri": "https://localhost:8080/",
          "height": 706
        },
        "outputId": "5d666091-1c7a-4ffc-83b5-01b4af80b643"
      },
      "source": [
        "d = {}\n",
        "\n",
        "for i in df['President'].unique():\n",
        "    totSent = 0\n",
        "    totWords = 0\n",
        "    for j in df[df['President']==i].index:\n",
        "        totWords += df['Total Words'][j]\n",
        "        totSent += df['Sentences Count'][j]\n",
        "    totavgSent = round((totWords/totSent), 2)\n",
        "    d[i] = totavgSent\n",
        "\n",
        "d"
      ],
      "execution_count": 12,
      "outputs": [
        {
          "output_type": "execute_result",
          "data": {
            "text/plain": [
              "{'Abraham Lincoln': 30.15,\n",
              " 'Andrew Jackson': 40.72,\n",
              " 'Andrew Johnson': 32.63,\n",
              " 'Barack Obama': 17.64,\n",
              " 'Benjamin Harrison': 32.33,\n",
              " 'Calvin Coolidge': 21.78,\n",
              " 'Chester A. Arthur': 34.56,\n",
              " 'Dwight D. Eisenhower': 21.14,\n",
              " 'Franklin D. Roosevelt': 23.7,\n",
              " 'Franklin Pierce': 40.49,\n",
              " 'George Bush': 17.13,\n",
              " 'George W. Bush': 18.56,\n",
              " 'George Washington': 36.54,\n",
              " 'Gerald R. Ford': 19.33,\n",
              " 'Grover Cleveland': 36.26,\n",
              " 'Harry S Truman': 20.73,\n",
              " 'Herbert Hoover': 25.94,\n",
              " 'James Buchanan': 31.29,\n",
              " 'James K. Polk': 36.89,\n",
              " 'James Madison': 44.26,\n",
              " 'James Monroe': 36.67,\n",
              " 'Jimmy Carter': 23.7,\n",
              " 'John Adams': 37.85,\n",
              " 'John F. Kennedy': 24.13,\n",
              " 'John Quincy Adams': 41.39,\n",
              " 'John Tyler': 39.35,\n",
              " 'Lyndon B. Johnson': 19.92,\n",
              " 'Martin Van Buren': 42.17,\n",
              " 'Millard Fillmore': 36.25,\n",
              " 'Richard M. Nixon': 23.97,\n",
              " 'Ronald Reagan': 19.69,\n",
              " 'Rutherford B. Hayes': 35.39,\n",
              " 'Theodore Roosevelt': 31.42,\n",
              " 'Thomas Jefferson': 38.55,\n",
              " 'Ulysses S. Grant': 34.31,\n",
              " 'Warren G. Harding': 25.98,\n",
              " 'William Howard Taft': 34.38,\n",
              " 'William J. Clinton': 19.57,\n",
              " 'William McKinley': 33.17,\n",
              " 'Woodrow Wilson': 31.84,\n",
              " 'Zachary Taylor': 36.64}"
            ]
          },
          "metadata": {
            "tags": []
          },
          "execution_count": 12
        }
      ]
    },
    {
      "cell_type": "code",
      "metadata": {
        "id": "1HvUKTDXUrCy",
        "colab_type": "code",
        "colab": {
          "base_uri": "https://localhost:8080/",
          "height": 50
        },
        "outputId": "bbc8b8cc-45e4-4d62-d64f-0b0657776d0e"
      },
      "source": [
        "max_pres = max(d, key=d.get)\n",
        "min_pres = min(d, key=d.get)\n",
        "\n",
        "print(\"The President with the longest sentences on average:   \", max_pres)\n",
        "print(\"The President with the shortest sentences on average:   \", min_pres)"
      ],
      "execution_count": 13,
      "outputs": [
        {
          "output_type": "stream",
          "text": [
            "The President with the longest sentences on average:    James Madison\n",
            "The President with the shortest sentences on average:    George Bush\n"
          ],
          "name": "stdout"
        }
      ]
    },
    {
      "cell_type": "code",
      "metadata": {
        "id": "E07iUF5LVgsh",
        "colab_type": "code",
        "colab": {
          "base_uri": "https://localhost:8080/",
          "height": 706
        },
        "outputId": "9767ee5b-2bc2-49cb-b733-147b15454691"
      },
      "source": [
        "#converts dict into list of lists, sorted by avg sent length\n",
        "\n",
        "temp = []\n",
        "dlist = []\n",
        "for key, value in d.items():\n",
        "    temp = [key,value]\n",
        "    dlist.append(temp)\n",
        "\n",
        "from operator import itemgetter\n",
        "final = sorted(dlist, key=itemgetter(1))\n",
        "final\n",
        "\n"
      ],
      "execution_count": 14,
      "outputs": [
        {
          "output_type": "execute_result",
          "data": {
            "text/plain": [
              "[['George Bush', 17.13],\n",
              " ['Barack Obama', 17.64],\n",
              " ['George W. Bush', 18.56],\n",
              " ['Gerald R. Ford', 19.33],\n",
              " ['William J. Clinton', 19.57],\n",
              " ['Ronald Reagan', 19.69],\n",
              " ['Lyndon B. Johnson', 19.92],\n",
              " ['Harry S Truman', 20.73],\n",
              " ['Dwight D. Eisenhower', 21.14],\n",
              " ['Calvin Coolidge', 21.78],\n",
              " ['Franklin D. Roosevelt', 23.7],\n",
              " ['Jimmy Carter', 23.7],\n",
              " ['Richard M. Nixon', 23.97],\n",
              " ['John F. Kennedy', 24.13],\n",
              " ['Herbert Hoover', 25.94],\n",
              " ['Warren G. Harding', 25.98],\n",
              " ['Abraham Lincoln', 30.15],\n",
              " ['James Buchanan', 31.29],\n",
              " ['Theodore Roosevelt', 31.42],\n",
              " ['Woodrow Wilson', 31.84],\n",
              " ['Benjamin Harrison', 32.33],\n",
              " ['Andrew Johnson', 32.63],\n",
              " ['William McKinley', 33.17],\n",
              " ['Ulysses S. Grant', 34.31],\n",
              " ['William Howard Taft', 34.38],\n",
              " ['Chester A. Arthur', 34.56],\n",
              " ['Rutherford B. Hayes', 35.39],\n",
              " ['Millard Fillmore', 36.25],\n",
              " ['Grover Cleveland', 36.26],\n",
              " ['George Washington', 36.54],\n",
              " ['Zachary Taylor', 36.64],\n",
              " ['James Monroe', 36.67],\n",
              " ['James K. Polk', 36.89],\n",
              " ['John Adams', 37.85],\n",
              " ['Thomas Jefferson', 38.55],\n",
              " ['John Tyler', 39.35],\n",
              " ['Franklin Pierce', 40.49],\n",
              " ['Andrew Jackson', 40.72],\n",
              " ['John Quincy Adams', 41.39],\n",
              " ['Martin Van Buren', 42.17],\n",
              " ['James Madison', 44.26]]"
            ]
          },
          "metadata": {
            "tags": []
          },
          "execution_count": 14
        }
      ]
    },
    {
      "cell_type": "code",
      "metadata": {
        "id": "TZquC_EhaF4r",
        "colab_type": "code",
        "colab": {
          "base_uri": "https://localhost:8080/",
          "height": 67
        },
        "outputId": "3853b37f-c1a9-4377-baf4-8de16de0bbec"
      },
      "source": [
        "import math\n",
        "#25th percentile\n",
        "\n",
        "print(\"The median president is:  \", final[20][0])\n",
        "q1 = math.ceil(.25 * len(final))\n",
        "q2 = math.ceil(.75 * len(final))\n",
        "print(\"The 25th percentile is:  \", final[q1-1][0])\n",
        "print(\"The 75th percentile is:  \", final[q2-1][0])"
      ],
      "execution_count": 15,
      "outputs": [
        {
          "output_type": "stream",
          "text": [
            "The median president is:   Benjamin Harrison\n",
            "The 25th percentile is:   Franklin D. Roosevelt\n",
            "The 75th percentile is:   Zachary Taylor\n"
          ],
          "name": "stdout"
        }
      ]
    },
    {
      "cell_type": "markdown",
      "metadata": {
        "id": "w2UKE14gfcVH",
        "colab_type": "text"
      },
      "source": [
        "**Median**: Benjamin Harrison\n",
        "\n",
        "The 25th percentile is:   Franklin D. Roosevelt\n",
        "\n",
        "The 75th percentile is:   Zachary Taylor\n"
      ]
    },
    {
      "cell_type": "code",
      "metadata": {
        "id": "Z3U4cgGIflNG",
        "colab_type": "code",
        "colab": {
          "base_uri": "https://localhost:8080/",
          "height": 70
        },
        "outputId": "bd6091e8-e0a4-495e-e53c-1cd92f09ed81"
      },
      "source": [
        "# sentencing_data defined above in cell with all functions\n",
        "#intialize \n",
        "max_sent = 44  # based off longest avg sent length from Madison\n",
        "min_sent = 15\n",
        "smin = ''\n",
        "smax = ''\n",
        "for i in range(0, len(data)):\n",
        "    sentData = sentencing_data(data[i][1])\n",
        "    for j in range(0, len(sentData)):\n",
        "        if SentLen(sentData[j]) < min_sent and SentLen(sentData[j]) > 2 :   #We set this as 2 because there are many names with abbreviations which count as sentences\n",
        "            min_sent = SentLen(sentData[j])\n",
        "            smin = sentData[j]\n",
        "        if SentLen(sentData[j]) > max_sent:\n",
        "            max_sent = SentLen(sentData[j])\n",
        "            smax = sentData[j]\n",
        "\n",
        "\n",
        "print('The longest sentence:   ',smax)\n",
        "\n",
        "print('The shortest sentence:  ', smin)\n",
        "\n",
        "                "
      ],
      "execution_count": 16,
      "outputs": [
        {
          "output_type": "stream",
          "text": [
            "The longest sentence:    It shows that the ordinary revenues from all sources for the fiscal year ended June 30, 1883, amounted to $398,287,581.95, whereof there was received--          From customs    $214,706,496.93        From internal revenue    144,720,368.98        From sales of public lands    7,955,864.42        From tax on circulation and deposits of national banks    9,111,008.85        From profits on coinage, bullion deposits, and assays    4,460,205.17        From other sources    17,333,637.60          Total        398,287,581.95             For the same period the ordinary expenditures were:          For civil expenses    $22,343,285.76        For foreign intercourse    2,419,275.24        For Indians    7,362,590.34        For Pensions    66,012,573.64        For the military establishment, including river and harbor  improvements and arsenals    48,911,382.93        For the naval establishment, including vessels, machinery,  and improvements at navy-yards    15,283,437.17        For miscellaneous expenditures, including public buildings,  light-houses, and collecting the revenue    40,098,432.73        For expenditures on account of the District of Columbia    3,817,028.48        For interest on the public debt    59,160,131.25          Total        265,408,137.54             Leaving a surplus revenue of $132,879,444.41, which, with an amount drawn from the cash balance in the Treasury of $1,299,312.55, making $134,178,756.96, was applied to the redemption--          Of bonds for the sinking fund    $44,850,700.00        Of fractional currency for the sinking fund    46,556.96        Of funded loan of 1881, continued at 3 12 per cent    65,380,250.00        Of loan of July and August, 1861, continued at 3 1/2 per cent    20,594,600.00        Of funded loan of 1907    1,418,850.00        Of funded loan of 1881    719,150.00        Of loan of February, 1861    18,000.00        Of loan of July and August, 1861    266,600.00        Of loan of March, 1863    116,850.00        Of loan of July, 1882    47,650.00        Of five-twenties of 1862    10,300.00        Of five-twenties of 1864    7,050.00        Of five-twenties of 1865    9,600.00        Of ten-forties of 1864    133,550.00        Of consols of 1865    40,800.00        Of consols of 1867    235,700.00        Of consols of 1868    154,650.00        Of Oregon War debt    5,450.00        Of refunding certificates    109,150.00        Of old demand, compound-interest and other notes    13,300.00          Total        134,178,756.96             The revenue for the present fiscal year, actual and estimated, is as follows:              Source            For the quarter ended September 30, 1883 (actual)            For the remaining three quarters of the year (estimated)            From customs    $57,402,975.67    $137,597,024.33        From internal revenue    29,662,078.60    90,337,921.40        From sales of public lands    2,932,635.17    5,067,634.83        From tax on circulation and deposits of national banks    1,557,800.88    1,542,199.12        From repayment of interest and sinking fund, Pacific  Railway companies    521,059.51    1,478,940.49        From customs fees, fines, penalties, etc    298,696.78    901,303.22        From fees--consular, letters patent, and lands    863,209.80    2,436,790.20        From proceeds of sales of Government property    112,562.23    167,437.77        From profits on coinage, etc    950,229.46    3,149,770.54        From deposits for surveying public lands    172,461.31    327,538.69        From revenues of the District of Columbia    256,017.99    1,643,982.01        From miscellaneous sources    1,237,189.63    2,382,810.37          Total receipts        95,966,917.03        247,033,082.97             The actual and estimated expenses for the same period are:              Object            For the quarter ended September 30, 1883 (actual)            For the remaining three quarters of the year (estimated)            For civil and miscellaneous expenses, including public buildings, light-houses, and collecting the revenue    $15,385,799.42    $51,114,200.58        For Indians    2,623,390.54    4,126,609.46        For pensions    16,285,261.98    53,714,738.02        For military establishment, including fortifications, river and harbor improvements, and arsenals    13,512,204.33    26,487,795.67        For naval establishment, including vessels and machinery, and improvements at navy-yards    4,199,299.69    12,300,700.31        For expenditures on account of the District of Columbia    1,138,836.41    2,611,163.59        For interest on the public debt    14,797,297.96    39,702,702.04            Total ordinary expenditures            67,942,090.33            190,057,909.67                      Total receipts, actual and estimated    $343,000,000.00        Total expenditures, actual and estimated    258,000,000.00                          85,000,000.00        Estimated amount due the sinking fund    45,816,741.07                      Leaving a balance of    39,183,258.93           If the revenue for the fiscal year which will end on June 30, 1885, be estimated upon the basis of existing laws, the Secretary is of the opinion that for that year the receipts will exceed by $60,000,000 the ordinary expenditures including the amount devoted to the sinking fund.\n",
            "The shortest sentence:   It was extermination.\n"
          ],
          "name": "stdout"
        }
      ]
    },
    {
      "cell_type": "code",
      "metadata": {
        "id": "d6DM_HWtExI_",
        "colab_type": "code",
        "colab": {}
      },
      "source": [
        "def clean_and_split(s):\n",
        "  # encode to UTF-8, convert to lowercase and translate all hyphens and\n",
        "  # punctuation to whitespace\n",
        "  s = s.encode('utf-8').lower().replace('-',' ').translate(None, string.punctuation)\n",
        "  # replace \\r\\n\n",
        "  s = re.sub('(\\r\\n)+',' ', s)\n",
        "  # replace whitespace substrings with one whitespace and remove\n",
        "  # leading/trailing whitespaces\n",
        "  s = re.sub(' +',' ',s.strip())\n",
        "  return s.split(' ')\n"
      ],
      "execution_count": 0,
      "outputs": []
    }
  ]
}